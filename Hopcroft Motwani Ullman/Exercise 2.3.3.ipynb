{
 "cells": [
  {
   "cell_type": "code",
   "execution_count": 1,
   "metadata": {},
   "outputs": [],
   "source": [
    "from automata.fa.nfa import NFA\n",
    "from automata.fa.dfa import DFA\n",
    "from IPython.core.display import SVG"
   ]
  },
  {
   "cell_type": "code",
   "execution_count": 2,
   "metadata": {},
   "outputs": [],
   "source": [
    "def print(dfa):\n",
    "    diagram = dfa.show_diagram()\n",
    "    img = diagram.create_svg()\n",
    "    return SVG( data=img )"
   ]
  },
  {
   "cell_type": "code",
   "execution_count": 3,
   "metadata": {},
   "outputs": [],
   "source": [
    "start_state = 'p'\n",
    "states = {'p','q','r','s', 't'}\n",
    "state_transitions = {'p': {'0': {'p', 'q'}, '1': {'p'}},\n",
    "                     'q': {'0': {'r', 's'}, '1': {'t'}},\n",
    "                     'r': {'0': {'p', 'r'}, '1': {'t'}},\n",
    "                     's': {'0': {}, '1': {}},\n",
    "                     't': {'0': {}, '1': {}}}\n",
    "\n",
    "nfa = NFA(\n",
    "    states=states,\n",
    "    input_symbols={'0', '1'},\n",
    "    transitions=state_transitions,\n",
    "    initial_state=start_state,\n",
    "    final_states={'t', 's'})"
   ]
  },
  {
   "cell_type": "code",
   "execution_count": 4,
   "metadata": {},
   "outputs": [],
   "source": [
    "dfa = DFA.from_nfa(nfa)"
   ]
  },
  {
   "cell_type": "code",
   "execution_count": 5,
   "metadata": {},
   "outputs": [
    {
     "data": {
      "image/svg+xml": [
       "<svg xmlns=\"http://www.w3.org/2000/svg\" xmlns:xlink=\"http://www.w3.org/1999/xlink\" width=\"369pt\" height=\"163pt\" viewBox=\"0.00 0.00 369.00 163.43\">\n",
       "<g id=\"graph0\" class=\"graph\" transform=\"scale(1 1) rotate(0) translate(4 159.43)\">\n",
       "<title>G</title>\n",
       "<polygon fill=\"white\" stroke=\"transparent\" points=\"-4,4 -4,-159.43 365,-159.43 365,4 -4,4\"/>\n",
       "<!-- 0 -->\n",
       "<g id=\"node1\" class=\"node\">\n",
       "<title>0</title>\n",
       "<ellipse fill=\"#66cc33\" stroke=\"black\" cx=\"27\" cy=\"-18.43\" rx=\"27\" ry=\"18\"/>\n",
       "<text text-anchor=\"middle\" x=\"27\" y=\"-14.73\" font-family=\"Times New Roman,serif\" font-size=\"14.00\">0</text>\n",
       "</g>\n",
       "<!-- 0&#45;&gt;0 -->\n",
       "<g id=\"edge2\" class=\"edge\">\n",
       "<title>0-&gt;0</title>\n",
       "<path fill=\"none\" stroke=\"black\" d=\"M18.43,-35.84C16.83,-45.52 19.69,-54.43 27,-54.43 31.57,-54.43 34.4,-50.95 35.49,-45.97\"/>\n",
       "<polygon fill=\"black\" stroke=\"black\" points=\"38.99,-45.86 35.57,-35.84 31.99,-45.81 38.99,-45.86\"/>\n",
       "<text text-anchor=\"middle\" x=\"27\" y=\"-58.23\" font-family=\"Times New Roman,serif\" font-size=\"14.00\">1</text>\n",
       "</g>\n",
       "<!-- 2 -->\n",
       "<g id=\"node3\" class=\"node\">\n",
       "<title>2</title>\n",
       "<ellipse fill=\"none\" stroke=\"black\" cx=\"124\" cy=\"-105.43\" rx=\"27\" ry=\"18\"/>\n",
       "<text text-anchor=\"middle\" x=\"124\" y=\"-101.73\" font-family=\"Times New Roman,serif\" font-size=\"14.00\">2</text>\n",
       "</g>\n",
       "<!-- 0&#45;&gt;2 -->\n",
       "<g id=\"edge1\" class=\"edge\">\n",
       "<title>0-&gt;2</title>\n",
       "<path fill=\"none\" stroke=\"black\" d=\"M43.69,-32.79C58.95,-46.77 82.33,-68.18 99.75,-84.14\"/>\n",
       "<polygon fill=\"black\" stroke=\"black\" points=\"97.55,-86.87 107.29,-91.04 102.28,-81.7 97.55,-86.87\"/>\n",
       "<text text-anchor=\"middle\" x=\"75.5\" y=\"-68.23\" font-family=\"Times New Roman,serif\" font-size=\"14.00\">0</text>\n",
       "</g>\n",
       "<!-- 1 -->\n",
       "<g id=\"node2\" class=\"node\">\n",
       "<title>1</title>\n",
       "<ellipse fill=\"none\" stroke=\"black\" cx=\"330\" cy=\"-120.43\" rx=\"27\" ry=\"18\"/>\n",
       "<ellipse fill=\"none\" stroke=\"black\" cx=\"330\" cy=\"-120.43\" rx=\"31\" ry=\"22\"/>\n",
       "<text text-anchor=\"middle\" x=\"330\" y=\"-116.73\" font-family=\"Times New Roman,serif\" font-size=\"14.00\">1</text>\n",
       "</g>\n",
       "<!-- 1&#45;&gt;0 -->\n",
       "<g id=\"edge4\" class=\"edge\">\n",
       "<title>1-&gt;0</title>\n",
       "<path fill=\"none\" stroke=\"black\" d=\"M320.37,-99.18C309.38,-75.33 287.92,-37.81 256,-21.43 193.79,10.51 108.88,-0.2 62.21,-9.91\"/>\n",
       "<polygon fill=\"black\" stroke=\"black\" points=\"61.33,-6.52 52.31,-12.07 62.82,-13.36 61.33,-6.52\"/>\n",
       "<text text-anchor=\"middle\" x=\"172.5\" y=\"-5.23\" font-family=\"Times New Roman,serif\" font-size=\"14.00\">1</text>\n",
       "</g>\n",
       "<!-- 1&#45;&gt;2 -->\n",
       "<g id=\"edge3\" class=\"edge\">\n",
       "<title>1-&gt;2</title>\n",
       "<path fill=\"none\" stroke=\"black\" d=\"M298.91,-120.64C271.5,-120.57 229.95,-119.81 194,-116.43 182.93,-115.39 170.93,-113.68 160.1,-111.92\"/>\n",
       "<polygon fill=\"black\" stroke=\"black\" points=\"160.58,-108.45 150.14,-110.23 159.41,-115.35 160.58,-108.45\"/>\n",
       "<text text-anchor=\"middle\" x=\"225\" y=\"-123.23\" font-family=\"Times New Roman,serif\" font-size=\"14.00\">0</text>\n",
       "</g>\n",
       "<!-- 2&#45;&gt;1 -->\n",
       "<g id=\"edge6\" class=\"edge\">\n",
       "<title>2-&gt;1</title>\n",
       "<path fill=\"none\" stroke=\"black\" d=\"M144.04,-117.59C157.42,-125.36 176.07,-134.66 194,-138.43 226.73,-145.31 264.5,-139.09 291.75,-132.15\"/>\n",
       "<polygon fill=\"black\" stroke=\"black\" points=\"292.9,-135.46 301.65,-129.48 291.08,-128.71 292.9,-135.46\"/>\n",
       "<text text-anchor=\"middle\" x=\"225\" y=\"-144.23\" font-family=\"Times New Roman,serif\" font-size=\"14.00\">1</text>\n",
       "</g>\n",
       "<!-- 3 -->\n",
       "<g id=\"node4\" class=\"node\">\n",
       "<title>3</title>\n",
       "<ellipse fill=\"none\" stroke=\"black\" cx=\"225\" cy=\"-52.43\" rx=\"27\" ry=\"18\"/>\n",
       "<ellipse fill=\"none\" stroke=\"black\" cx=\"225\" cy=\"-52.43\" rx=\"31\" ry=\"22\"/>\n",
       "<text text-anchor=\"middle\" x=\"225\" y=\"-48.73\" font-family=\"Times New Roman,serif\" font-size=\"14.00\">3</text>\n",
       "</g>\n",
       "<!-- 2&#45;&gt;3 -->\n",
       "<g id=\"edge5\" class=\"edge\">\n",
       "<title>2-&gt;3</title>\n",
       "<path fill=\"none\" stroke=\"black\" d=\"M145.51,-94.45C158.55,-87.47 175.73,-78.27 190.7,-70.26\"/>\n",
       "<polygon fill=\"black\" stroke=\"black\" points=\"192.5,-73.26 199.67,-65.45 189.2,-67.09 192.5,-73.26\"/>\n",
       "<text text-anchor=\"middle\" x=\"172.5\" y=\"-84.23\" font-family=\"Times New Roman,serif\" font-size=\"14.00\">0</text>\n",
       "</g>\n",
       "<!-- 3&#45;&gt;1 -->\n",
       "<g id=\"edge8\" class=\"edge\">\n",
       "<title>3-&gt;1</title>\n",
       "<path fill=\"none\" stroke=\"black\" d=\"M248.35,-67.18C262.93,-76.81 282.15,-89.5 298.17,-100.08\"/>\n",
       "<polygon fill=\"black\" stroke=\"black\" points=\"296.42,-103.11 306.69,-105.7 300.28,-97.27 296.42,-103.11\"/>\n",
       "<text text-anchor=\"middle\" x=\"277.5\" y=\"-92.23\" font-family=\"Times New Roman,serif\" font-size=\"14.00\">1</text>\n",
       "</g>\n",
       "<!-- 3&#45;&gt;3 -->\n",
       "<g id=\"edge7\" class=\"edge\">\n",
       "<title>3-&gt;3</title>\n",
       "<path fill=\"none\" stroke=\"black\" d=\"M215.49,-73.42C214.31,-83.51 217.48,-92.43 225,-92.43 229.81,-92.43 232.85,-88.77 234.09,-83.49\"/>\n",
       "<polygon fill=\"black\" stroke=\"black\" points=\"237.59,-83.55 234.51,-73.42 230.6,-83.26 237.59,-83.55\"/>\n",
       "<text text-anchor=\"middle\" x=\"225\" y=\"-96.23\" font-family=\"Times New Roman,serif\" font-size=\"14.00\">0</text>\n",
       "</g>\n",
       "</g>\n",
       "</svg>"
      ],
      "text/plain": [
       "<IPython.core.display.SVG object>"
      ]
     },
     "execution_count": 5,
     "metadata": {},
     "output_type": "execute_result"
    }
   ],
   "source": [
    "print(dfa)"
   ]
  },
  {
   "cell_type": "code",
   "execution_count": 6,
   "metadata": {},
   "outputs": [],
   "source": [
    "expected_nfa = NFA.from_regex('.*0.', input_symbols={'0','1'})"
   ]
  },
  {
   "cell_type": "code",
   "execution_count": 7,
   "metadata": {},
   "outputs": [
    {
     "data": {
      "image/svg+xml": [
       "<svg xmlns=\"http://www.w3.org/2000/svg\" xmlns:xlink=\"http://www.w3.org/1999/xlink\" width=\"369pt\" height=\"163pt\" viewBox=\"0.00 0.00 369.00 163.43\">\n",
       "<g id=\"graph0\" class=\"graph\" transform=\"scale(1 1) rotate(0) translate(4 159.43)\">\n",
       "<title>G</title>\n",
       "<polygon fill=\"white\" stroke=\"transparent\" points=\"-4,4 -4,-159.43 365,-159.43 365,4 -4,4\"/>\n",
       "<!-- 0 -->\n",
       "<g id=\"node1\" class=\"node\">\n",
       "<title>0</title>\n",
       "<ellipse fill=\"#66cc33\" stroke=\"black\" cx=\"27\" cy=\"-18.43\" rx=\"27\" ry=\"18\"/>\n",
       "<text text-anchor=\"middle\" x=\"27\" y=\"-14.73\" font-family=\"Times New Roman,serif\" font-size=\"14.00\">0</text>\n",
       "</g>\n",
       "<!-- 0&#45;&gt;0 -->\n",
       "<g id=\"edge2\" class=\"edge\">\n",
       "<title>0-&gt;0</title>\n",
       "<path fill=\"none\" stroke=\"black\" d=\"M18.43,-35.84C16.83,-45.52 19.69,-54.43 27,-54.43 31.57,-54.43 34.4,-50.95 35.49,-45.97\"/>\n",
       "<polygon fill=\"black\" stroke=\"black\" points=\"38.99,-45.86 35.57,-35.84 31.99,-45.81 38.99,-45.86\"/>\n",
       "<text text-anchor=\"middle\" x=\"27\" y=\"-58.23\" font-family=\"Times New Roman,serif\" font-size=\"14.00\">1</text>\n",
       "</g>\n",
       "<!-- 2 -->\n",
       "<g id=\"node3\" class=\"node\">\n",
       "<title>2</title>\n",
       "<ellipse fill=\"none\" stroke=\"black\" cx=\"124\" cy=\"-105.43\" rx=\"27\" ry=\"18\"/>\n",
       "<text text-anchor=\"middle\" x=\"124\" y=\"-101.73\" font-family=\"Times New Roman,serif\" font-size=\"14.00\">2</text>\n",
       "</g>\n",
       "<!-- 0&#45;&gt;2 -->\n",
       "<g id=\"edge1\" class=\"edge\">\n",
       "<title>0-&gt;2</title>\n",
       "<path fill=\"none\" stroke=\"black\" d=\"M43.69,-32.79C58.95,-46.77 82.33,-68.18 99.75,-84.14\"/>\n",
       "<polygon fill=\"black\" stroke=\"black\" points=\"97.55,-86.87 107.29,-91.04 102.28,-81.7 97.55,-86.87\"/>\n",
       "<text text-anchor=\"middle\" x=\"75.5\" y=\"-68.23\" font-family=\"Times New Roman,serif\" font-size=\"14.00\">0</text>\n",
       "</g>\n",
       "<!-- 1 -->\n",
       "<g id=\"node2\" class=\"node\">\n",
       "<title>1</title>\n",
       "<ellipse fill=\"none\" stroke=\"black\" cx=\"330\" cy=\"-120.43\" rx=\"27\" ry=\"18\"/>\n",
       "<ellipse fill=\"none\" stroke=\"black\" cx=\"330\" cy=\"-120.43\" rx=\"31\" ry=\"22\"/>\n",
       "<text text-anchor=\"middle\" x=\"330\" y=\"-116.73\" font-family=\"Times New Roman,serif\" font-size=\"14.00\">1</text>\n",
       "</g>\n",
       "<!-- 1&#45;&gt;0 -->\n",
       "<g id=\"edge4\" class=\"edge\">\n",
       "<title>1-&gt;0</title>\n",
       "<path fill=\"none\" stroke=\"black\" d=\"M320.37,-99.18C309.38,-75.33 287.92,-37.81 256,-21.43 193.79,10.51 108.88,-0.2 62.21,-9.91\"/>\n",
       "<polygon fill=\"black\" stroke=\"black\" points=\"61.33,-6.52 52.31,-12.07 62.82,-13.36 61.33,-6.52\"/>\n",
       "<text text-anchor=\"middle\" x=\"172.5\" y=\"-5.23\" font-family=\"Times New Roman,serif\" font-size=\"14.00\">1</text>\n",
       "</g>\n",
       "<!-- 1&#45;&gt;2 -->\n",
       "<g id=\"edge3\" class=\"edge\">\n",
       "<title>1-&gt;2</title>\n",
       "<path fill=\"none\" stroke=\"black\" d=\"M298.91,-120.64C271.5,-120.57 229.95,-119.81 194,-116.43 182.93,-115.39 170.93,-113.68 160.1,-111.92\"/>\n",
       "<polygon fill=\"black\" stroke=\"black\" points=\"160.58,-108.45 150.14,-110.23 159.41,-115.35 160.58,-108.45\"/>\n",
       "<text text-anchor=\"middle\" x=\"225\" y=\"-123.23\" font-family=\"Times New Roman,serif\" font-size=\"14.00\">0</text>\n",
       "</g>\n",
       "<!-- 2&#45;&gt;1 -->\n",
       "<g id=\"edge6\" class=\"edge\">\n",
       "<title>2-&gt;1</title>\n",
       "<path fill=\"none\" stroke=\"black\" d=\"M144.04,-117.59C157.42,-125.36 176.07,-134.66 194,-138.43 226.73,-145.31 264.5,-139.09 291.75,-132.15\"/>\n",
       "<polygon fill=\"black\" stroke=\"black\" points=\"292.9,-135.46 301.65,-129.48 291.08,-128.71 292.9,-135.46\"/>\n",
       "<text text-anchor=\"middle\" x=\"225\" y=\"-144.23\" font-family=\"Times New Roman,serif\" font-size=\"14.00\">1</text>\n",
       "</g>\n",
       "<!-- 3 -->\n",
       "<g id=\"node4\" class=\"node\">\n",
       "<title>3</title>\n",
       "<ellipse fill=\"none\" stroke=\"black\" cx=\"225\" cy=\"-52.43\" rx=\"27\" ry=\"18\"/>\n",
       "<ellipse fill=\"none\" stroke=\"black\" cx=\"225\" cy=\"-52.43\" rx=\"31\" ry=\"22\"/>\n",
       "<text text-anchor=\"middle\" x=\"225\" y=\"-48.73\" font-family=\"Times New Roman,serif\" font-size=\"14.00\">3</text>\n",
       "</g>\n",
       "<!-- 2&#45;&gt;3 -->\n",
       "<g id=\"edge5\" class=\"edge\">\n",
       "<title>2-&gt;3</title>\n",
       "<path fill=\"none\" stroke=\"black\" d=\"M145.51,-94.45C158.55,-87.47 175.73,-78.27 190.7,-70.26\"/>\n",
       "<polygon fill=\"black\" stroke=\"black\" points=\"192.5,-73.26 199.67,-65.45 189.2,-67.09 192.5,-73.26\"/>\n",
       "<text text-anchor=\"middle\" x=\"172.5\" y=\"-84.23\" font-family=\"Times New Roman,serif\" font-size=\"14.00\">0</text>\n",
       "</g>\n",
       "<!-- 3&#45;&gt;1 -->\n",
       "<g id=\"edge8\" class=\"edge\">\n",
       "<title>3-&gt;1</title>\n",
       "<path fill=\"none\" stroke=\"black\" d=\"M248.35,-67.18C262.93,-76.81 282.15,-89.5 298.17,-100.08\"/>\n",
       "<polygon fill=\"black\" stroke=\"black\" points=\"296.42,-103.11 306.69,-105.7 300.28,-97.27 296.42,-103.11\"/>\n",
       "<text text-anchor=\"middle\" x=\"277.5\" y=\"-92.23\" font-family=\"Times New Roman,serif\" font-size=\"14.00\">1</text>\n",
       "</g>\n",
       "<!-- 3&#45;&gt;3 -->\n",
       "<g id=\"edge7\" class=\"edge\">\n",
       "<title>3-&gt;3</title>\n",
       "<path fill=\"none\" stroke=\"black\" d=\"M215.49,-73.42C214.31,-83.51 217.48,-92.43 225,-92.43 229.81,-92.43 232.85,-88.77 234.09,-83.49\"/>\n",
       "<polygon fill=\"black\" stroke=\"black\" points=\"237.59,-83.55 234.51,-73.42 230.6,-83.26 237.59,-83.55\"/>\n",
       "<text text-anchor=\"middle\" x=\"225\" y=\"-96.23\" font-family=\"Times New Roman,serif\" font-size=\"14.00\">0</text>\n",
       "</g>\n",
       "</g>\n",
       "</svg>"
      ],
      "text/plain": [
       "<IPython.core.display.SVG object>"
      ]
     },
     "execution_count": 7,
     "metadata": {},
     "output_type": "execute_result"
    }
   ],
   "source": [
    "print(DFA.from_nfa(expected_nfa))"
   ]
  }
 ],
 "metadata": {
  "kernelspec": {
   "display_name": "Python 3",
   "language": "python",
   "name": "python3"
  },
  "language_info": {
   "codemirror_mode": {
    "name": "ipython",
    "version": 3
   },
   "file_extension": ".py",
   "mimetype": "text/x-python",
   "name": "python",
   "nbconvert_exporter": "python",
   "pygments_lexer": "ipython3",
   "version": "3.11.3"
  },
  "orig_nbformat": 4
 },
 "nbformat": 4,
 "nbformat_minor": 2
}

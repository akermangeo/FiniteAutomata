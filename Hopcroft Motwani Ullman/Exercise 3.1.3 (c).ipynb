{
 "cells": [
  {
   "cell_type": "code",
   "execution_count": 6,
   "metadata": {},
   "outputs": [],
   "source": [
    "from automata.fa.nfa import NFA\n",
    "from automata.fa.dfa import DFA\n",
    "from automata.regex.regex import validate\n",
    "from IPython.core.display import SVG\n",
    "from helpers import get_automaton_display"
   ]
  },
  {
   "cell_type": "code",
   "execution_count": 24,
   "metadata": {},
   "outputs": [
    {
     "name": "stdout",
     "output_type": "stream",
     "text": [
      "True\n",
      "True\n"
     ]
    }
   ],
   "source": [
    "E='((11)*(0(11)*0(11)*|101(11)*0(11)*|10(11)*01(11)*|01(11)*01(11)*)*)'\n",
    "O='((11)*(101(11)*01(11)*|10(11)*0(11)*|0(11)*01(11)*|01(11)*0(11)*))'\n",
    "print(validate(E))\n",
    "print(validate(O))\n",
    "nfa = NFA.from_regex(f'{E}*({O}{E}*{O}{E}*)*', input_symbols={'0','1'})"
   ]
  },
  {
   "cell_type": "code",
   "execution_count": 25,
   "metadata": {},
   "outputs": [
    {
     "data": {
      "image/svg+xml": [
       "<svg xmlns=\"http://www.w3.org/2000/svg\" xmlns:xlink=\"http://www.w3.org/1999/xlink\" width=\"361pt\" height=\"94pt\" viewBox=\"0.00 0.00 361.00 93.78\">\n",
       "<g id=\"graph0\" class=\"graph\" transform=\"scale(1 1) rotate(0) translate(4 89.78)\">\n",
       "<title>G</title>\n",
       "<polygon fill=\"white\" stroke=\"transparent\" points=\"-4,4 -4,-89.78 357,-89.78 357,4 -4,4\"/>\n",
       "<!-- 0 -->\n",
       "<g id=\"node1\" class=\"node\">\n",
       "<title>0</title>\n",
       "<ellipse fill=\"none\" stroke=\"black\" cx=\"27\" cy=\"-19.78\" rx=\"27\" ry=\"18\"/>\n",
       "<text text-anchor=\"middle\" x=\"27\" y=\"-16.08\" font-family=\"Times New Roman,serif\" font-size=\"14.00\">0</text>\n",
       "</g>\n",
       "<!-- 2 -->\n",
       "<g id=\"node3\" class=\"node\">\n",
       "<title>2</title>\n",
       "<ellipse fill=\"none\" stroke=\"black\" cx=\"124\" cy=\"-61.78\" rx=\"27\" ry=\"18\"/>\n",
       "<text text-anchor=\"middle\" x=\"124\" y=\"-58.08\" font-family=\"Times New Roman,serif\" font-size=\"14.00\">2</text>\n",
       "</g>\n",
       "<!-- 0&#45;&gt;2 -->\n",
       "<g id=\"edge2\" class=\"edge\">\n",
       "<title>0-&gt;2</title>\n",
       "<path fill=\"none\" stroke=\"black\" d=\"M43.56,-34.3C51.51,-40.94 61.66,-48.3 72,-52.78 76.78,-54.85 82,-56.45 87.22,-57.67\"/>\n",
       "<polygon fill=\"black\" stroke=\"black\" points=\"86.67,-61.13 97.16,-59.61 88.01,-54.26 86.67,-61.13\"/>\n",
       "<text text-anchor=\"middle\" x=\"75.5\" y=\"-58.58\" font-family=\"Times New Roman,serif\" font-size=\"14.00\">1</text>\n",
       "</g>\n",
       "<!-- 3 -->\n",
       "<g id=\"node4\" class=\"node\">\n",
       "<title>3</title>\n",
       "<ellipse fill=\"none\" stroke=\"black\" cx=\"326\" cy=\"-19.78\" rx=\"27\" ry=\"18\"/>\n",
       "<text text-anchor=\"middle\" x=\"326\" y=\"-16.08\" font-family=\"Times New Roman,serif\" font-size=\"14.00\">3</text>\n",
       "</g>\n",
       "<!-- 0&#45;&gt;3 -->\n",
       "<g id=\"edge1\" class=\"edge\">\n",
       "<title>0-&gt;3</title>\n",
       "<path fill=\"none\" stroke=\"black\" d=\"M54.1,-19.78C107.11,-19.78 227.51,-19.78 288.36,-19.78\"/>\n",
       "<polygon fill=\"black\" stroke=\"black\" points=\"288.64,-23.28 298.64,-19.78 288.64,-16.28 288.64,-23.28\"/>\n",
       "<text text-anchor=\"middle\" x=\"172.5\" y=\"-23.58\" font-family=\"Times New Roman,serif\" font-size=\"14.00\">0</text>\n",
       "</g>\n",
       "<!-- 1 -->\n",
       "<g id=\"node2\" class=\"node\">\n",
       "<title>1</title>\n",
       "<ellipse fill=\"#66cc33\" stroke=\"black\" cx=\"225\" cy=\"-63.78\" rx=\"27\" ry=\"18\"/>\n",
       "<ellipse fill=\"none\" stroke=\"black\" cx=\"225\" cy=\"-63.78\" rx=\"31\" ry=\"22\"/>\n",
       "<text text-anchor=\"middle\" x=\"225\" y=\"-60.08\" font-family=\"Times New Roman,serif\" font-size=\"14.00\">1</text>\n",
       "</g>\n",
       "<!-- 1&#45;&gt;2 -->\n",
       "<g id=\"edge3\" class=\"edge\">\n",
       "<title>1-&gt;2</title>\n",
       "<path fill=\"none\" stroke=\"black\" d=\"M198.53,-52.28C189.33,-49.34 178.8,-47.36 169,-48.78 165.5,-49.29 161.9,-50.01 158.33,-50.85\"/>\n",
       "<polygon fill=\"black\" stroke=\"black\" points=\"157.22,-47.52 148.47,-53.49 159.04,-54.29 157.22,-47.52\"/>\n",
       "<text text-anchor=\"middle\" x=\"172.5\" y=\"-52.58\" font-family=\"Times New Roman,serif\" font-size=\"14.00\">0</text>\n",
       "</g>\n",
       "<!-- 1&#45;&gt;3 -->\n",
       "<g id=\"edge4\" class=\"edge\">\n",
       "<title>1-&gt;3</title>\n",
       "<path fill=\"none\" stroke=\"black\" d=\"M255.86,-60.31C264.23,-58.67 273.18,-56.28 281,-52.78 288.07,-49.62 295.08,-45.15 301.35,-40.51\"/>\n",
       "<polygon fill=\"black\" stroke=\"black\" points=\"303.69,-43.13 309.39,-34.2 299.37,-37.62 303.69,-43.13\"/>\n",
       "<text text-anchor=\"middle\" x=\"277.5\" y=\"-58.58\" font-family=\"Times New Roman,serif\" font-size=\"14.00\">1</text>\n",
       "</g>\n",
       "<!-- 2&#45;&gt;0 -->\n",
       "<g id=\"edge6\" class=\"edge\">\n",
       "<title>2-&gt;0</title>\n",
       "<path fill=\"none\" stroke=\"black\" d=\"M105.27,-48.79C97.51,-43.55 88.11,-37.82 79,-33.78 73.86,-31.5 68.26,-29.51 62.71,-27.8\"/>\n",
       "<polygon fill=\"black\" stroke=\"black\" points=\"63.48,-24.38 52.9,-25.03 61.57,-31.12 63.48,-24.38\"/>\n",
       "<text text-anchor=\"middle\" x=\"75.5\" y=\"-37.58\" font-family=\"Times New Roman,serif\" font-size=\"14.00\">1</text>\n",
       "</g>\n",
       "<!-- 2&#45;&gt;1 -->\n",
       "<g id=\"edge5\" class=\"edge\">\n",
       "<title>2-&gt;1</title>\n",
       "<path fill=\"none\" stroke=\"black\" d=\"M151.05,-63.16C156.95,-63.42 163.19,-63.65 169,-63.78 173.76,-63.89 178.75,-63.95 183.71,-63.99\"/>\n",
       "<polygon fill=\"black\" stroke=\"black\" points=\"183.73,-67.49 193.74,-64.03 183.75,-60.49 183.73,-67.49\"/>\n",
       "<text text-anchor=\"middle\" x=\"172.5\" y=\"-67.58\" font-family=\"Times New Roman,serif\" font-size=\"14.00\">0</text>\n",
       "</g>\n",
       "<!-- 3&#45;&gt;0 -->\n",
       "<g id=\"edge7\" class=\"edge\">\n",
       "<title>3-&gt;0</title>\n",
       "<path fill=\"none\" stroke=\"black\" d=\"M300.22,-13.85C269.52,-7.18 215.55,2.34 169,-0.78 132.78,-3.21 91.68,-9.11 63.24,-13.7\"/>\n",
       "<polygon fill=\"black\" stroke=\"black\" points=\"62.67,-10.24 53.37,-15.32 63.8,-17.15 62.67,-10.24\"/>\n",
       "<text text-anchor=\"middle\" x=\"172.5\" y=\"-4.58\" font-family=\"Times New Roman,serif\" font-size=\"14.00\">0</text>\n",
       "</g>\n",
       "<!-- 3&#45;&gt;1 -->\n",
       "<g id=\"edge8\" class=\"edge\">\n",
       "<title>3-&gt;1</title>\n",
       "<path fill=\"none\" stroke=\"black\" d=\"M300.12,-25.07C291.65,-27.27 282.24,-30.17 274,-33.78 268.09,-36.37 262.06,-39.6 256.36,-42.98\"/>\n",
       "<polygon fill=\"black\" stroke=\"black\" points=\"254.38,-40.09 247.72,-48.33 258.07,-46.04 254.38,-40.09\"/>\n",
       "<text text-anchor=\"middle\" x=\"277.5\" y=\"-37.58\" font-family=\"Times New Roman,serif\" font-size=\"14.00\">1</text>\n",
       "</g>\n",
       "</g>\n",
       "</svg>"
      ],
      "text/plain": [
       "<IPython.core.display.SVG object>"
      ]
     },
     "execution_count": 25,
     "metadata": {},
     "output_type": "execute_result"
    }
   ],
   "source": [
    "get_automaton_display(DFA.from_nfa(nfa))"
   ]
  },
  {
   "cell_type": "code",
   "execution_count": 9,
   "metadata": {},
   "outputs": [
    {
     "data": {
      "image/svg+xml": [
       "<svg xmlns=\"http://www.w3.org/2000/svg\" xmlns:xlink=\"http://www.w3.org/1999/xlink\" width=\"361pt\" height=\"94pt\" viewBox=\"0.00 0.00 361.00 93.78\">\n",
       "<g id=\"graph0\" class=\"graph\" transform=\"scale(1 1) rotate(0) translate(4 89.78)\">\n",
       "<title>G</title>\n",
       "<polygon fill=\"white\" stroke=\"transparent\" points=\"-4,4 -4,-89.78 357,-89.78 357,4 -4,4\"/>\n",
       "<!-- 0 -->\n",
       "<g id=\"node1\" class=\"node\">\n",
       "<title>0</title>\n",
       "<ellipse fill=\"none\" stroke=\"black\" cx=\"27\" cy=\"-19.78\" rx=\"27\" ry=\"18\"/>\n",
       "<text text-anchor=\"middle\" x=\"27\" y=\"-16.08\" font-family=\"Times New Roman,serif\" font-size=\"14.00\">0</text>\n",
       "</g>\n",
       "<!-- 2 -->\n",
       "<g id=\"node3\" class=\"node\">\n",
       "<title>2</title>\n",
       "<ellipse fill=\"none\" stroke=\"black\" cx=\"124\" cy=\"-61.78\" rx=\"27\" ry=\"18\"/>\n",
       "<text text-anchor=\"middle\" x=\"124\" y=\"-58.08\" font-family=\"Times New Roman,serif\" font-size=\"14.00\">2</text>\n",
       "</g>\n",
       "<!-- 0&#45;&gt;2 -->\n",
       "<g id=\"edge2\" class=\"edge\">\n",
       "<title>0-&gt;2</title>\n",
       "<path fill=\"none\" stroke=\"black\" d=\"M43.56,-34.3C51.51,-40.94 61.66,-48.3 72,-52.78 76.78,-54.85 82,-56.45 87.22,-57.67\"/>\n",
       "<polygon fill=\"black\" stroke=\"black\" points=\"86.67,-61.13 97.16,-59.61 88.01,-54.26 86.67,-61.13\"/>\n",
       "<text text-anchor=\"middle\" x=\"75.5\" y=\"-58.58\" font-family=\"Times New Roman,serif\" font-size=\"14.00\">1</text>\n",
       "</g>\n",
       "<!-- 3 -->\n",
       "<g id=\"node4\" class=\"node\">\n",
       "<title>3</title>\n",
       "<ellipse fill=\"none\" stroke=\"black\" cx=\"326\" cy=\"-19.78\" rx=\"27\" ry=\"18\"/>\n",
       "<text text-anchor=\"middle\" x=\"326\" y=\"-16.08\" font-family=\"Times New Roman,serif\" font-size=\"14.00\">3</text>\n",
       "</g>\n",
       "<!-- 0&#45;&gt;3 -->\n",
       "<g id=\"edge1\" class=\"edge\">\n",
       "<title>0-&gt;3</title>\n",
       "<path fill=\"none\" stroke=\"black\" d=\"M54.1,-19.78C107.11,-19.78 227.51,-19.78 288.36,-19.78\"/>\n",
       "<polygon fill=\"black\" stroke=\"black\" points=\"288.64,-23.28 298.64,-19.78 288.64,-16.28 288.64,-23.28\"/>\n",
       "<text text-anchor=\"middle\" x=\"172.5\" y=\"-23.58\" font-family=\"Times New Roman,serif\" font-size=\"14.00\">0</text>\n",
       "</g>\n",
       "<!-- 1 -->\n",
       "<g id=\"node2\" class=\"node\">\n",
       "<title>1</title>\n",
       "<ellipse fill=\"#66cc33\" stroke=\"black\" cx=\"225\" cy=\"-63.78\" rx=\"27\" ry=\"18\"/>\n",
       "<ellipse fill=\"none\" stroke=\"black\" cx=\"225\" cy=\"-63.78\" rx=\"31\" ry=\"22\"/>\n",
       "<text text-anchor=\"middle\" x=\"225\" y=\"-60.08\" font-family=\"Times New Roman,serif\" font-size=\"14.00\">1</text>\n",
       "</g>\n",
       "<!-- 1&#45;&gt;2 -->\n",
       "<g id=\"edge3\" class=\"edge\">\n",
       "<title>1-&gt;2</title>\n",
       "<path fill=\"none\" stroke=\"black\" d=\"M198.53,-52.28C189.33,-49.34 178.8,-47.36 169,-48.78 165.5,-49.29 161.9,-50.01 158.33,-50.85\"/>\n",
       "<polygon fill=\"black\" stroke=\"black\" points=\"157.22,-47.52 148.47,-53.49 159.04,-54.29 157.22,-47.52\"/>\n",
       "<text text-anchor=\"middle\" x=\"172.5\" y=\"-52.58\" font-family=\"Times New Roman,serif\" font-size=\"14.00\">0</text>\n",
       "</g>\n",
       "<!-- 1&#45;&gt;3 -->\n",
       "<g id=\"edge4\" class=\"edge\">\n",
       "<title>1-&gt;3</title>\n",
       "<path fill=\"none\" stroke=\"black\" d=\"M255.86,-60.31C264.23,-58.67 273.18,-56.28 281,-52.78 288.07,-49.62 295.08,-45.15 301.35,-40.51\"/>\n",
       "<polygon fill=\"black\" stroke=\"black\" points=\"303.69,-43.13 309.39,-34.2 299.37,-37.62 303.69,-43.13\"/>\n",
       "<text text-anchor=\"middle\" x=\"277.5\" y=\"-58.58\" font-family=\"Times New Roman,serif\" font-size=\"14.00\">1</text>\n",
       "</g>\n",
       "<!-- 2&#45;&gt;0 -->\n",
       "<g id=\"edge6\" class=\"edge\">\n",
       "<title>2-&gt;0</title>\n",
       "<path fill=\"none\" stroke=\"black\" d=\"M105.27,-48.79C97.51,-43.55 88.11,-37.82 79,-33.78 73.86,-31.5 68.26,-29.51 62.71,-27.8\"/>\n",
       "<polygon fill=\"black\" stroke=\"black\" points=\"63.48,-24.38 52.9,-25.03 61.57,-31.12 63.48,-24.38\"/>\n",
       "<text text-anchor=\"middle\" x=\"75.5\" y=\"-37.58\" font-family=\"Times New Roman,serif\" font-size=\"14.00\">1</text>\n",
       "</g>\n",
       "<!-- 2&#45;&gt;1 -->\n",
       "<g id=\"edge5\" class=\"edge\">\n",
       "<title>2-&gt;1</title>\n",
       "<path fill=\"none\" stroke=\"black\" d=\"M151.05,-63.16C156.95,-63.42 163.19,-63.65 169,-63.78 173.76,-63.89 178.75,-63.95 183.71,-63.99\"/>\n",
       "<polygon fill=\"black\" stroke=\"black\" points=\"183.73,-67.49 193.74,-64.03 183.75,-60.49 183.73,-67.49\"/>\n",
       "<text text-anchor=\"middle\" x=\"172.5\" y=\"-67.58\" font-family=\"Times New Roman,serif\" font-size=\"14.00\">0</text>\n",
       "</g>\n",
       "<!-- 3&#45;&gt;0 -->\n",
       "<g id=\"edge7\" class=\"edge\">\n",
       "<title>3-&gt;0</title>\n",
       "<path fill=\"none\" stroke=\"black\" d=\"M300.22,-13.85C269.52,-7.18 215.55,2.34 169,-0.78 132.78,-3.21 91.68,-9.11 63.24,-13.7\"/>\n",
       "<polygon fill=\"black\" stroke=\"black\" points=\"62.67,-10.24 53.37,-15.32 63.8,-17.15 62.67,-10.24\"/>\n",
       "<text text-anchor=\"middle\" x=\"172.5\" y=\"-4.58\" font-family=\"Times New Roman,serif\" font-size=\"14.00\">0</text>\n",
       "</g>\n",
       "<!-- 3&#45;&gt;1 -->\n",
       "<g id=\"edge8\" class=\"edge\">\n",
       "<title>3-&gt;1</title>\n",
       "<path fill=\"none\" stroke=\"black\" d=\"M300.12,-25.07C291.65,-27.27 282.24,-30.17 274,-33.78 268.09,-36.37 262.06,-39.6 256.36,-42.98\"/>\n",
       "<polygon fill=\"black\" stroke=\"black\" points=\"254.38,-40.09 247.72,-48.33 258.07,-46.04 254.38,-40.09\"/>\n",
       "<text text-anchor=\"middle\" x=\"277.5\" y=\"-37.58\" font-family=\"Times New Roman,serif\" font-size=\"14.00\">1</text>\n",
       "</g>\n",
       "</g>\n",
       "</svg>"
      ],
      "text/plain": [
       "<IPython.core.display.SVG object>"
      ]
     },
     "execution_count": 9,
     "metadata": {},
     "output_type": "execute_result"
    }
   ],
   "source": [
    "even_0s = NFA.from_regex('1*(01*01*)*', input_symbols={'0', '1'})\n",
    "even_1s = NFA.from_regex('0*(10*10*)*', input_symbols={'0', '1'})\n",
    "expected = even_0s.intersection(even_1s)\n",
    "get_automaton_display(DFA.from_nfa(expected))"
   ]
  },
  {
   "cell_type": "code",
   "execution_count": 26,
   "metadata": {},
   "outputs": [
    {
     "ename": "KeyboardInterrupt",
     "evalue": "",
     "output_type": "error",
     "traceback": [
      "\u001b[1;31m---------------------------------------------------------------------------\u001b[0m",
      "\u001b[1;31mKeyboardInterrupt\u001b[0m                         Traceback (most recent call last)",
      "Cell \u001b[1;32mIn[26], line 4\u001b[0m\n\u001b[0;32m      2\u001b[0m \u001b[39mwhile\u001b[39;00m \u001b[39mTrue\u001b[39;00m:\n\u001b[0;32m      3\u001b[0m     \u001b[39mfor\u001b[39;00m \u001b[39minput\u001b[39m \u001b[39min\u001b[39;00m language:\n\u001b[1;32m----> 4\u001b[0m         \u001b[39mif\u001b[39;00m expected\u001b[39m.\u001b[39;49maccepts_input(\u001b[39minput\u001b[39;49m) \u001b[39m!=\u001b[39m nfa\u001b[39m.\u001b[39maccepts_input(\u001b[39minput\u001b[39m):\n\u001b[0;32m      5\u001b[0m             \u001b[39mprint\u001b[39m (\u001b[39minput\u001b[39m)\n\u001b[0;32m      7\u001b[0m     language1 \u001b[39m=\u001b[39m [\u001b[39m'\u001b[39m\u001b[39m0\u001b[39m\u001b[39m'\u001b[39m \u001b[39m+\u001b[39m x \u001b[39mfor\u001b[39;00m x \u001b[39min\u001b[39;00m language]\n",
      "File \u001b[1;32m~\\source\\repos\\NotJunk\\automata\\automata\\base\\automaton.py:61\u001b[0m, in \u001b[0;36mAutomaton.accepts_input\u001b[1;34m(self, input_str)\u001b[0m\n\u001b[0;32m     59\u001b[0m \u001b[39m\u001b[39m\u001b[39m\"\"\"Return True if this automaton accepts the given input.\"\"\"\u001b[39;00m\n\u001b[0;32m     60\u001b[0m \u001b[39mtry\u001b[39;00m:\n\u001b[1;32m---> 61\u001b[0m     \u001b[39mself\u001b[39;49m\u001b[39m.\u001b[39;49mread_input(input_str)\n\u001b[0;32m     62\u001b[0m     \u001b[39mreturn\u001b[39;00m \u001b[39mTrue\u001b[39;00m\n\u001b[0;32m     63\u001b[0m \u001b[39mexcept\u001b[39;00m exceptions\u001b[39m.\u001b[39mRejectionException:\n",
      "File \u001b[1;32m~\\source\\repos\\NotJunk\\automata\\automata\\base\\automaton.py:54\u001b[0m, in \u001b[0;36mAutomaton.read_input\u001b[1;34m(self, input_str)\u001b[0m\n\u001b[0;32m     48\u001b[0m \u001b[39m\u001b[39m\u001b[39m\"\"\"\u001b[39;00m\n\u001b[0;32m     49\u001b[0m \u001b[39mCheck if the given string is accepted by this automaton.\u001b[39;00m\n\u001b[0;32m     50\u001b[0m \n\u001b[0;32m     51\u001b[0m \u001b[39mReturn the automaton's final configuration if this string is valid.\u001b[39;00m\n\u001b[0;32m     52\u001b[0m \u001b[39m\"\"\"\u001b[39;00m\n\u001b[0;32m     53\u001b[0m \u001b[39m# \"Fast-forward\" generator to get its final value\u001b[39;00m\n\u001b[1;32m---> 54\u001b[0m \u001b[39mfor\u001b[39;00m config \u001b[39min\u001b[39;00m \u001b[39mself\u001b[39m\u001b[39m.\u001b[39mread_input_stepwise(input_str):\n\u001b[0;32m     55\u001b[0m     \u001b[39mpass\u001b[39;00m\n\u001b[0;32m     56\u001b[0m \u001b[39mreturn\u001b[39;00m config\n",
      "File \u001b[1;32m~\\source\\repos\\NotJunk\\automata\\automata\\fa\\nfa.py:258\u001b[0m, in \u001b[0;36mNFA.read_input_stepwise\u001b[1;34m(self, input_str)\u001b[0m\n\u001b[0;32m    255\u001b[0m \u001b[39mfor\u001b[39;00m input_symbol \u001b[39min\u001b[39;00m input_str:\n\u001b[0;32m    256\u001b[0m     current_states \u001b[39m=\u001b[39m \u001b[39mself\u001b[39m\u001b[39m.\u001b[39m_get_next_current_states(\n\u001b[0;32m    257\u001b[0m         current_states, input_symbol)\n\u001b[1;32m--> 258\u001b[0m     \u001b[39myield\u001b[39;00m current_states\n\u001b[0;32m    260\u001b[0m \u001b[39mself\u001b[39m\u001b[39m.\u001b[39m_check_for_input_rejection(current_states)\n",
      "\u001b[1;31mKeyboardInterrupt\u001b[0m: "
     ]
    }
   ],
   "source": [
    "language = ['0', '1']\n",
    "while True:\n",
    "    for input in language:\n",
    "        if expected.accepts_input(input) != nfa.accepts_input(input):\n",
    "            print (input)\n",
    "\n",
    "    language1 = ['0' + x for x in language]\n",
    "    language2 = ['1' + x for x in language]\n",
    "    language = language1 + language2"
   ]
  }
 ],
 "metadata": {
  "kernelspec": {
   "display_name": "Python 3",
   "language": "python",
   "name": "python3"
  },
  "language_info": {
   "codemirror_mode": {
    "name": "ipython",
    "version": 3
   },
   "file_extension": ".py",
   "mimetype": "text/x-python",
   "name": "python",
   "nbconvert_exporter": "python",
   "pygments_lexer": "ipython3",
   "version": "3.11.3"
  },
  "orig_nbformat": 4
 },
 "nbformat": 4,
 "nbformat_minor": 2
}
